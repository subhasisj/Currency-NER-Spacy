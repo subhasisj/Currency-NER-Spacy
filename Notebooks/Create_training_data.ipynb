{
 "metadata": {
  "language_info": {
   "codemirror_mode": {
    "name": "ipython",
    "version": 3
   },
   "file_extension": ".py",
   "mimetype": "text/x-python",
   "name": "python",
   "nbconvert_exporter": "python",
   "pygments_lexer": "ipython3",
   "version": "3.8.5-final"
  },
  "orig_nbformat": 2,
  "kernelspec": {
   "name": "python_defaultSpec_1600198803153",
   "display_name": "Python 3.8.5 64-bit ('refinitiv': conda)"
  }
 },
 "nbformat": 4,
 "nbformat_minor": 2,
 "cells": [
  {
   "cell_type": "code",
   "execution_count": 1,
   "metadata": {},
   "outputs": [],
   "source": [
    "# Libraries\n",
    "import pandas as pd\n",
    "import numpy as np \n",
    "import matplotlib.pyplot as plt\n",
    "import seaborn as sns\n",
    "import os\n",
    "import spacy\n",
    "from spacy import displacy\n",
    "import re"
   ]
  },
  {
   "cell_type": "code",
   "execution_count": 2,
   "metadata": {},
   "outputs": [],
   "source": [
    "nlp = spacy.load('en_core_web_sm')"
   ]
  },
  {
   "source": [
    "## Sample Cleaning"
   ],
   "cell_type": "markdown",
   "metadata": {}
  },
  {
   "cell_type": "code",
   "execution_count": 3,
   "metadata": {},
   "outputs": [],
   "source": [
    "def remove_urls(text):\n",
    "    return re.sub(r'\\w+:\\/{2}[\\d\\w-]+(\\.[\\d\\w-]+)*(?:(?:\\/[^\\s/]*))*', '', text)\n",
    "\n",
    "def remove_numeric(text):\n",
    "    return re.sub(r'\\d+', '', text) \n",
    "\n",
    "def remove_extra_spaces(text):\n",
    "\n",
    "    lines = text.split(\"\\n\")\n",
    "    non_empty_lines = [line.strip() for line in lines if line.strip() != \"\"]\n",
    "\n",
    "    return (' '.join(non_empty_lines))\n",
    "\n",
    "def remove_text_between_brackets(text):\n",
    "    return re.sub(\"[\\(\\[].*?[\\)\\]]\", \"\", text)\n",
    "    # return re.sub(r'\\([^)]*\\)', '', text)"
   ]
  },
  {
   "cell_type": "code",
   "execution_count": 4,
   "metadata": {
    "tags": []
   },
   "outputs": [],
   "source": [
    "def get_sample_text_from_file():\n",
    "        with open(os.path.join('..','Data','train','0725_20180410_nFCT10YSBS_1.txt')) as reader:\n",
    "                text = reader.read()\n",
    "                text = remove_extra_spaces(text)\n",
    "                # text = remove_numeric(text)\n",
    "                text = remove_urls(text)\n",
    "                text = remove_text_between_brackets(text)\n",
    "\n",
    "        return text"
   ]
  },
  {
   "source": [
    "## Create training data using PhraseMatcher "
   ],
   "cell_type": "markdown",
   "metadata": {}
  },
  {
   "cell_type": "code",
   "execution_count": 5,
   "metadata": {},
   "outputs": [
    {
     "output_type": "execute_result",
     "data": {
      "text/plain": "                       doc_id         phrase  ric\n0  0749_20180406_nL4N1RI40U_1   Romanian leu  RON\n1  0749_20180406_nL4N1RI40U_1   Polish zloty  PLN\n2  0749_20180406_nL4N1RI40U_1  Serbian dinar  RSD\n3  0749_20180406_nL4N1RI40U_1            CZK  CZK\n4  0749_20180406_nL4N1RI40U_1            CZK  CZK\n5  0749_20180406_nL4N1RI40U_1            HUF  HUF\n6  0749_20180406_nL4N1RI40U_1          dinar  RSD\n7  0749_20180406_nL4N1RI40U_1            leu  RON\n8  0749_20180406_nL4N1RI40U_1         forint  HUF\n9  0749_20180406_nL4N1RI40U_1          zloty  PLN",
      "text/html": "<div>\n<style scoped>\n    .dataframe tbody tr th:only-of-type {\n        vertical-align: middle;\n    }\n\n    .dataframe tbody tr th {\n        vertical-align: top;\n    }\n\n    .dataframe thead th {\n        text-align: right;\n    }\n</style>\n<table border=\"1\" class=\"dataframe\">\n  <thead>\n    <tr style=\"text-align: right;\">\n      <th></th>\n      <th>doc_id</th>\n      <th>phrase</th>\n      <th>ric</th>\n    </tr>\n  </thead>\n  <tbody>\n    <tr>\n      <th>0</th>\n      <td>0749_20180406_nL4N1RI40U_1</td>\n      <td>Romanian leu</td>\n      <td>RON</td>\n    </tr>\n    <tr>\n      <th>1</th>\n      <td>0749_20180406_nL4N1RI40U_1</td>\n      <td>Polish zloty</td>\n      <td>PLN</td>\n    </tr>\n    <tr>\n      <th>2</th>\n      <td>0749_20180406_nL4N1RI40U_1</td>\n      <td>Serbian dinar</td>\n      <td>RSD</td>\n    </tr>\n    <tr>\n      <th>3</th>\n      <td>0749_20180406_nL4N1RI40U_1</td>\n      <td>CZK</td>\n      <td>CZK</td>\n    </tr>\n    <tr>\n      <th>4</th>\n      <td>0749_20180406_nL4N1RI40U_1</td>\n      <td>CZK</td>\n      <td>CZK</td>\n    </tr>\n    <tr>\n      <th>5</th>\n      <td>0749_20180406_nL4N1RI40U_1</td>\n      <td>HUF</td>\n      <td>HUF</td>\n    </tr>\n    <tr>\n      <th>6</th>\n      <td>0749_20180406_nL4N1RI40U_1</td>\n      <td>dinar</td>\n      <td>RSD</td>\n    </tr>\n    <tr>\n      <th>7</th>\n      <td>0749_20180406_nL4N1RI40U_1</td>\n      <td>leu</td>\n      <td>RON</td>\n    </tr>\n    <tr>\n      <th>8</th>\n      <td>0749_20180406_nL4N1RI40U_1</td>\n      <td>forint</td>\n      <td>HUF</td>\n    </tr>\n    <tr>\n      <th>9</th>\n      <td>0749_20180406_nL4N1RI40U_1</td>\n      <td>zloty</td>\n      <td>PLN</td>\n    </tr>\n  </tbody>\n</table>\n</div>"
     },
     "metadata": {},
     "execution_count": 5
    }
   ],
   "source": [
    "df_train = pd.read_csv(os.path.join('..','Data','train_labels.csv'))\n",
    "df_train.head(10)"
   ]
  },
  {
   "cell_type": "code",
   "execution_count": 6,
   "metadata": {},
   "outputs": [
    {
     "output_type": "execute_result",
     "data": {
      "text/plain": "              phrase  ric\n0                leu  RON\n1       Romanian leu  RON\n2      Romania's leu  RON\n3       Polish Zloty  PLN\n4              zloty  PLN\n5       Polish zloty  PLN\n6              Zloty  PLN\n7  Poland's currency  PLN\n8                PLN  PLN\n9      Serbian dinar  RSD",
      "text/html": "<div>\n<style scoped>\n    .dataframe tbody tr th:only-of-type {\n        vertical-align: middle;\n    }\n\n    .dataframe tbody tr th {\n        vertical-align: top;\n    }\n\n    .dataframe thead th {\n        text-align: right;\n    }\n</style>\n<table border=\"1\" class=\"dataframe\">\n  <thead>\n    <tr style=\"text-align: right;\">\n      <th></th>\n      <th>phrase</th>\n      <th>ric</th>\n    </tr>\n  </thead>\n  <tbody>\n    <tr>\n      <th>0</th>\n      <td>leu</td>\n      <td>RON</td>\n    </tr>\n    <tr>\n      <th>1</th>\n      <td>Romanian leu</td>\n      <td>RON</td>\n    </tr>\n    <tr>\n      <th>2</th>\n      <td>Romania's leu</td>\n      <td>RON</td>\n    </tr>\n    <tr>\n      <th>3</th>\n      <td>Polish Zloty</td>\n      <td>PLN</td>\n    </tr>\n    <tr>\n      <th>4</th>\n      <td>zloty</td>\n      <td>PLN</td>\n    </tr>\n    <tr>\n      <th>5</th>\n      <td>Polish zloty</td>\n      <td>PLN</td>\n    </tr>\n    <tr>\n      <th>6</th>\n      <td>Zloty</td>\n      <td>PLN</td>\n    </tr>\n    <tr>\n      <th>7</th>\n      <td>Poland's currency</td>\n      <td>PLN</td>\n    </tr>\n    <tr>\n      <th>8</th>\n      <td>PLN</td>\n      <td>PLN</td>\n    </tr>\n    <tr>\n      <th>9</th>\n      <td>Serbian dinar</td>\n      <td>RSD</td>\n    </tr>\n  </tbody>\n</table>\n</div>"
     },
     "metadata": {},
     "execution_count": 6
    }
   ],
   "source": [
    "df_lexicon = pd.read_csv(os.path.join('..','Data','lexicon.csv'))\n",
    "df_lexicon.head(10)"
   ]
  },
  {
   "cell_type": "code",
   "execution_count": 7,
   "metadata": {},
   "outputs": [
    {
     "output_type": "execute_result",
     "data": {
      "text/plain": "                  phrase  ric\n102         Chinese yuan  CNY\n103                 yuan  CNY\n104  Chinese currency 's  CNY\n105                  CNY  CNY\n106         Chinese Yuan  CNY\n107                 Yuan  CNY\n108         China's yuan  CNY\n109     Chinese currency  CNY\n110                  Cny  CNY\n111         China's yuan  CNY\n112                 YUAN  CNY\n113             renminbi  CNY",
      "text/html": "<div>\n<style scoped>\n    .dataframe tbody tr th:only-of-type {\n        vertical-align: middle;\n    }\n\n    .dataframe tbody tr th {\n        vertical-align: top;\n    }\n\n    .dataframe thead th {\n        text-align: right;\n    }\n</style>\n<table border=\"1\" class=\"dataframe\">\n  <thead>\n    <tr style=\"text-align: right;\">\n      <th></th>\n      <th>phrase</th>\n      <th>ric</th>\n    </tr>\n  </thead>\n  <tbody>\n    <tr>\n      <th>102</th>\n      <td>Chinese yuan</td>\n      <td>CNY</td>\n    </tr>\n    <tr>\n      <th>103</th>\n      <td>yuan</td>\n      <td>CNY</td>\n    </tr>\n    <tr>\n      <th>104</th>\n      <td>Chinese currency 's</td>\n      <td>CNY</td>\n    </tr>\n    <tr>\n      <th>105</th>\n      <td>CNY</td>\n      <td>CNY</td>\n    </tr>\n    <tr>\n      <th>106</th>\n      <td>Chinese Yuan</td>\n      <td>CNY</td>\n    </tr>\n    <tr>\n      <th>107</th>\n      <td>Yuan</td>\n      <td>CNY</td>\n    </tr>\n    <tr>\n      <th>108</th>\n      <td>China's yuan</td>\n      <td>CNY</td>\n    </tr>\n    <tr>\n      <th>109</th>\n      <td>Chinese currency</td>\n      <td>CNY</td>\n    </tr>\n    <tr>\n      <th>110</th>\n      <td>Cny</td>\n      <td>CNY</td>\n    </tr>\n    <tr>\n      <th>111</th>\n      <td>China's yuan</td>\n      <td>CNY</td>\n    </tr>\n    <tr>\n      <th>112</th>\n      <td>YUAN</td>\n      <td>CNY</td>\n    </tr>\n    <tr>\n      <th>113</th>\n      <td>renminbi</td>\n      <td>CNY</td>\n    </tr>\n  </tbody>\n</table>\n</div>"
     },
     "metadata": {},
     "execution_count": 7
    }
   ],
   "source": [
    "df_lexicon.query(\"ric=='CNY'\")"
   ]
  },
  {
   "cell_type": "code",
   "execution_count": 8,
   "metadata": {},
   "outputs": [
    {
     "output_type": "execute_result",
     "data": {
      "text/plain": "                 phrase  ric\n96    Canada's currency  CAD\n97                  CAD  CAD\n98   Canada 's currency  CAD\n99               loonie  CAD\n100     Canadian dollar  CAD\n101     Canadian Dollar  CAD",
      "text/html": "<div>\n<style scoped>\n    .dataframe tbody tr th:only-of-type {\n        vertical-align: middle;\n    }\n\n    .dataframe tbody tr th {\n        vertical-align: top;\n    }\n\n    .dataframe thead th {\n        text-align: right;\n    }\n</style>\n<table border=\"1\" class=\"dataframe\">\n  <thead>\n    <tr style=\"text-align: right;\">\n      <th></th>\n      <th>phrase</th>\n      <th>ric</th>\n    </tr>\n  </thead>\n  <tbody>\n    <tr>\n      <th>96</th>\n      <td>Canada's currency</td>\n      <td>CAD</td>\n    </tr>\n    <tr>\n      <th>97</th>\n      <td>CAD</td>\n      <td>CAD</td>\n    </tr>\n    <tr>\n      <th>98</th>\n      <td>Canada 's currency</td>\n      <td>CAD</td>\n    </tr>\n    <tr>\n      <th>99</th>\n      <td>loonie</td>\n      <td>CAD</td>\n    </tr>\n    <tr>\n      <th>100</th>\n      <td>Canadian dollar</td>\n      <td>CAD</td>\n    </tr>\n    <tr>\n      <th>101</th>\n      <td>Canadian Dollar</td>\n      <td>CAD</td>\n    </tr>\n  </tbody>\n</table>\n</div>"
     },
     "metadata": {},
     "execution_count": 8
    }
   ],
   "source": [
    "df_lexicon.query(\"ric=='CAD'\")"
   ]
  },
  {
   "cell_type": "code",
   "execution_count": 9,
   "metadata": {},
   "outputs": [
    {
     "output_type": "execute_result",
     "data": {
      "text/plain": "              phrase  ric\n27  U.S. counterpart  USD\n28          U.S. dlr  USD\n29         US Dollar  USD\n30           dollars  USD\n31     U.S. currency  USD\n32              cent  USD\n33       U.S. dollar  USD\n34          US cents  USD\n35          dollar's  USD\n36               USD  USD\n37               Usd  USD\n38         Dollar 's  USD\n39              U.S.  USD\n40      U.S. dollar,  USD\n41         US dollar  USD\n42            DOLLAR  USD\n43       U.S. DOLLAR  USD\n44         US DOLLAR  USD\n45       US currency  USD\n46         greenback  USD\n47            Dollar  USD\n48                US  USD\n49            dollar  USD\n50    US counterpart  USD\n51             Cable  USD\n52              buck  USD\n53             cents  USD\n54      U.S. dollars  USD\n55        U.S dollar  USD",
      "text/html": "<div>\n<style scoped>\n    .dataframe tbody tr th:only-of-type {\n        vertical-align: middle;\n    }\n\n    .dataframe tbody tr th {\n        vertical-align: top;\n    }\n\n    .dataframe thead th {\n        text-align: right;\n    }\n</style>\n<table border=\"1\" class=\"dataframe\">\n  <thead>\n    <tr style=\"text-align: right;\">\n      <th></th>\n      <th>phrase</th>\n      <th>ric</th>\n    </tr>\n  </thead>\n  <tbody>\n    <tr>\n      <th>27</th>\n      <td>U.S. counterpart</td>\n      <td>USD</td>\n    </tr>\n    <tr>\n      <th>28</th>\n      <td>U.S. dlr</td>\n      <td>USD</td>\n    </tr>\n    <tr>\n      <th>29</th>\n      <td>US Dollar</td>\n      <td>USD</td>\n    </tr>\n    <tr>\n      <th>30</th>\n      <td>dollars</td>\n      <td>USD</td>\n    </tr>\n    <tr>\n      <th>31</th>\n      <td>U.S. currency</td>\n      <td>USD</td>\n    </tr>\n    <tr>\n      <th>32</th>\n      <td>cent</td>\n      <td>USD</td>\n    </tr>\n    <tr>\n      <th>33</th>\n      <td>U.S. dollar</td>\n      <td>USD</td>\n    </tr>\n    <tr>\n      <th>34</th>\n      <td>US cents</td>\n      <td>USD</td>\n    </tr>\n    <tr>\n      <th>35</th>\n      <td>dollar's</td>\n      <td>USD</td>\n    </tr>\n    <tr>\n      <th>36</th>\n      <td>USD</td>\n      <td>USD</td>\n    </tr>\n    <tr>\n      <th>37</th>\n      <td>Usd</td>\n      <td>USD</td>\n    </tr>\n    <tr>\n      <th>38</th>\n      <td>Dollar 's</td>\n      <td>USD</td>\n    </tr>\n    <tr>\n      <th>39</th>\n      <td>U.S.</td>\n      <td>USD</td>\n    </tr>\n    <tr>\n      <th>40</th>\n      <td>U.S. dollar,</td>\n      <td>USD</td>\n    </tr>\n    <tr>\n      <th>41</th>\n      <td>US dollar</td>\n      <td>USD</td>\n    </tr>\n    <tr>\n      <th>42</th>\n      <td>DOLLAR</td>\n      <td>USD</td>\n    </tr>\n    <tr>\n      <th>43</th>\n      <td>U.S. DOLLAR</td>\n      <td>USD</td>\n    </tr>\n    <tr>\n      <th>44</th>\n      <td>US DOLLAR</td>\n      <td>USD</td>\n    </tr>\n    <tr>\n      <th>45</th>\n      <td>US currency</td>\n      <td>USD</td>\n    </tr>\n    <tr>\n      <th>46</th>\n      <td>greenback</td>\n      <td>USD</td>\n    </tr>\n    <tr>\n      <th>47</th>\n      <td>Dollar</td>\n      <td>USD</td>\n    </tr>\n    <tr>\n      <th>48</th>\n      <td>US</td>\n      <td>USD</td>\n    </tr>\n    <tr>\n      <th>49</th>\n      <td>dollar</td>\n      <td>USD</td>\n    </tr>\n    <tr>\n      <th>50</th>\n      <td>US counterpart</td>\n      <td>USD</td>\n    </tr>\n    <tr>\n      <th>51</th>\n      <td>Cable</td>\n      <td>USD</td>\n    </tr>\n    <tr>\n      <th>52</th>\n      <td>buck</td>\n      <td>USD</td>\n    </tr>\n    <tr>\n      <th>53</th>\n      <td>cents</td>\n      <td>USD</td>\n    </tr>\n    <tr>\n      <th>54</th>\n      <td>U.S. dollars</td>\n      <td>USD</td>\n    </tr>\n    <tr>\n      <th>55</th>\n      <td>U.S dollar</td>\n      <td>USD</td>\n    </tr>\n  </tbody>\n</table>\n</div>"
     },
     "metadata": {},
     "execution_count": 9
    }
   ],
   "source": [
    "df_lexicon.query(\"ric=='USD'\")"
   ]
  },
  {
   "cell_type": "code",
   "execution_count": 10,
   "metadata": {},
   "outputs": [],
   "source": [
    "# Group the lexicon by ric to get the phrases for each currency\n",
    "df_all_phrases = df_lexicon.groupby('ric')['phrase'].agg(lambda x: list(x)).reset_index()"
   ]
  },
  {
   "cell_type": "code",
   "execution_count": 11,
   "metadata": {},
   "outputs": [
    {
     "output_type": "execute_result",
     "data": {
      "text/plain": "   ric                                             phrase\n0  AED                                       [UAE dirham]\n1  AGN                 [Argentina's peso, Argentina peso]\n2  ALL                                              [all]\n3  ARS                 [Argentine peso, Argentina’s peso]\n4  AUD  [AUD, Aussie dollar, Australian, Australian do...",
      "text/html": "<div>\n<style scoped>\n    .dataframe tbody tr th:only-of-type {\n        vertical-align: middle;\n    }\n\n    .dataframe tbody tr th {\n        vertical-align: top;\n    }\n\n    .dataframe thead th {\n        text-align: right;\n    }\n</style>\n<table border=\"1\" class=\"dataframe\">\n  <thead>\n    <tr style=\"text-align: right;\">\n      <th></th>\n      <th>ric</th>\n      <th>phrase</th>\n    </tr>\n  </thead>\n  <tbody>\n    <tr>\n      <th>0</th>\n      <td>AED</td>\n      <td>[UAE dirham]</td>\n    </tr>\n    <tr>\n      <th>1</th>\n      <td>AGN</td>\n      <td>[Argentina's peso, Argentina peso]</td>\n    </tr>\n    <tr>\n      <th>2</th>\n      <td>ALL</td>\n      <td>[all]</td>\n    </tr>\n    <tr>\n      <th>3</th>\n      <td>ARS</td>\n      <td>[Argentine peso, Argentina’s peso]</td>\n    </tr>\n    <tr>\n      <th>4</th>\n      <td>AUD</td>\n      <td>[AUD, Aussie dollar, Australian, Australian do...</td>\n    </tr>\n  </tbody>\n</table>\n</div>"
     },
     "metadata": {},
     "execution_count": 11
    }
   ],
   "source": [
    "df_all_phrases.head()"
   ]
  },
  {
   "cell_type": "code",
   "execution_count": 12,
   "metadata": {},
   "outputs": [],
   "source": [
    "# Now we will create patterns for matching texts in the corpus with the phrases for each currency type. "
   ]
  },
  {
   "cell_type": "code",
   "execution_count": 13,
   "metadata": {
    "tags": [
     "outputPrepend"
    ]
   },
   "outputs": [
    {
     "output_type": "stream",
     "name": "stdout",
     "text": "OS': {'IN': ['PROPN', 'NOUN']}}]]\n[[{'ORTH': 'CHF', 'DEP': {'NOT_IN': ['POBJ']}, 'POS': {'IN': ['PROPN', 'NOUN']}}], [{'ORTH': 'Swiss francs', 'DEP': {'NOT_IN': ['POBJ']}, 'POS': {'IN': ['PROPN', 'NOUN']}}], [{'ORTH': 'SWISS FRANC', 'DEP': {'NOT_IN': ['POBJ']}, 'POS': {'IN': ['PROPN', 'NOUN']}}], [{'ORTH': 'franc', 'DEP': {'NOT_IN': ['POBJ']}, 'POS': {'IN': ['PROPN', 'NOUN']}}], [{'ORTH': 'Swiss currency', 'DEP': {'NOT_IN': ['POBJ']}, 'POS': {'IN': ['PROPN', 'NOUN']}}], [{'ORTH': 'Swiss franc', 'DEP': {'NOT_IN': ['POBJ']}, 'POS': {'IN': ['PROPN', 'NOUN']}}], [{'ORTH': 'Swiss Franc', 'DEP': {'NOT_IN': ['POBJ']}, 'POS': {'IN': ['PROPN', 'NOUN']}}]]\n[[{'ORTH': 'Chile peso', 'DEP': {'NOT_IN': ['POBJ']}, 'POS': {'IN': ['PROPN', 'NOUN']}}], [{'ORTH': 'Chilean peso', 'DEP': {'NOT_IN': ['POBJ']}, 'POS': {'IN': ['PROPN', 'NOUN']}}], [{'ORTH': \"Chile's peso\", 'DEP': {'NOT_IN': ['POBJ']}, 'POS': {'IN': ['PROPN', 'NOUN']}}], [{'ORTH': 'CLP', 'DEP': {'NOT_IN': ['POBJ']}, 'POS': {'IN': ['PROPN', 'NOUN']}}], [{'ORTH': 'Chilean currency', 'DEP': {'NOT_IN': ['POBJ']}, 'POS': {'IN': ['PROPN', 'NOUN']}}]]\n[[{'ORTH': 'China offshore', 'DEP': {'NOT_IN': ['POBJ']}, 'POS': {'IN': ['PROPN', 'NOUN']}}], [{'ORTH': 'offshore yuan', 'DEP': {'NOT_IN': ['POBJ']}, 'POS': {'IN': ['PROPN', 'NOUN']}}], [{'ORTH': 'CNH', 'DEP': {'NOT_IN': ['POBJ']}, 'POS': {'IN': ['PROPN', 'NOUN']}}], [{'ORTH': \"'offshore' yuan\", 'DEP': {'NOT_IN': ['POBJ']}, 'POS': {'IN': ['PROPN', 'NOUN']}}]]\n[[{'ORTH': 'Chinese yuan', 'DEP': {'NOT_IN': ['POBJ']}, 'POS': {'IN': ['PROPN', 'NOUN']}}], [{'ORTH': 'yuan', 'DEP': {'NOT_IN': ['POBJ']}, 'POS': {'IN': ['PROPN', 'NOUN']}}], [{'ORTH': \"Chinese currency 's\", 'DEP': {'NOT_IN': ['POBJ']}, 'POS': {'IN': ['PROPN', 'NOUN']}}], [{'ORTH': 'CNY', 'DEP': {'NOT_IN': ['POBJ']}, 'POS': {'IN': ['PROPN', 'NOUN']}}], [{'ORTH': 'Chinese Yuan', 'DEP': {'NOT_IN': ['POBJ']}, 'POS': {'IN': ['PROPN', 'NOUN']}}], [{'ORTH': 'Yuan', 'DEP': {'NOT_IN': ['POBJ']}, 'POS': {'IN': ['PROPN', 'NOUN']}}], [{'ORTH': \"China's yuan\", 'DEP': {'NOT_IN': ['POBJ']}, 'POS': {'IN': ['PROPN', 'NOUN']}}], [{'ORTH': 'Chinese currency', 'DEP': {'NOT_IN': ['POBJ']}, 'POS': {'IN': ['PROPN', 'NOUN']}}], [{'ORTH': 'Cny', 'DEP': {'NOT_IN': ['POBJ']}, 'POS': {'IN': ['PROPN', 'NOUN']}}], [{'ORTH': \"China's yuan\", 'DEP': {'NOT_IN': ['POBJ']}, 'POS': {'IN': ['PROPN', 'NOUN']}}], [{'ORTH': 'YUAN', 'DEP': {'NOT_IN': ['POBJ']}, 'POS': {'IN': ['PROPN', 'NOUN']}}], [{'ORTH': 'renminbi', 'DEP': {'NOT_IN': ['POBJ']}, 'POS': {'IN': ['PROPN', 'NOUN']}}]]\n[[{'ORTH': 'Colombian pesos', 'DEP': {'NOT_IN': ['POBJ']}, 'POS': {'IN': ['PROPN', 'NOUN']}}], [{'ORTH': 'Colombia pesos', 'DEP': {'NOT_IN': ['POBJ']}, 'POS': {'IN': ['PROPN', 'NOUN']}}], [{'ORTH': \"Colombia's peso\", 'DEP': {'NOT_IN': ['POBJ']}, 'POS': {'IN': ['PROPN', 'NOUN']}}], [{'ORTH': 'Colombian peso', 'DEP': {'NOT_IN': ['POBJ']}, 'POS': {'IN': ['PROPN', 'NOUN']}}]]\n[[{'ORTH': 'CRC', 'DEP': {'NOT_IN': ['POBJ']}, 'POS': {'IN': ['PROPN', 'NOUN']}}]]\n[[{'ORTH': 'crown', 'DEP': {'NOT_IN': ['POBJ']}, 'POS': {'IN': ['PROPN', 'NOUN']}}], [{'ORTH': 'Czech crown', 'DEP': {'NOT_IN': ['POBJ']}, 'POS': {'IN': ['PROPN', 'NOUN']}}], [{'ORTH': 'CZK', 'DEP': {'NOT_IN': ['POBJ']}, 'POS': {'IN': ['PROPN', 'NOUN']}}], [{'ORTH': 'crowns', 'DEP': {'NOT_IN': ['POBJ']}, 'POS': {'IN': ['PROPN', 'NOUN']}}]]\n[[{'ORTH': 'Djibouti franc', 'DEP': {'NOT_IN': ['POBJ']}, 'POS': {'IN': ['PROPN', 'NOUN']}}]]\n[[{'ORTH': 'Danish crown', 'DEP': {'NOT_IN': ['POBJ']}, 'POS': {'IN': ['PROPN', 'NOUN']}}]]\n[[{'ORTH': 'EURO', 'DEP': {'NOT_IN': ['POBJ']}, 'POS': {'IN': ['PROPN', 'NOUN']}}], [{'ORTH': 'euro', 'DEP': {'NOT_IN': ['POBJ']}, 'POS': {'IN': ['PROPN', 'NOUN']}}], [{'ORTH': 'Euro', 'DEP': {'NOT_IN': ['POBJ']}, 'POS': {'IN': ['PROPN', 'NOUN']}}], [{'ORTH': 'Eur', 'DEP': {'NOT_IN': ['POBJ']}, 'POS': {'IN': ['PROPN', 'NOUN']}}], [{'ORTH': 'EUR', 'DEP': {'NOT_IN': ['POBJ']}, 'POS': {'IN': ['PROPN', 'NOUN']}}]]\n[[{'ORTH': 'Gbp', 'DEP': {'NOT_IN': ['POBJ']}, 'POS': {'IN': ['PROPN', 'NOUN']}}], [{'ORTH': 'Sterling Pound', 'DEP': {'NOT_IN': ['POBJ']}, 'POS': {'IN': ['PROPN', 'NOUN']}}], [{'ORTH': 'British Pound', 'DEP': {'NOT_IN': ['POBJ']}, 'POS': {'IN': ['PROPN', 'NOUN']}}], [{'ORTH': 'POUND STERLING', 'DEP': {'NOT_IN': ['POBJ']}, 'POS': {'IN': ['PROPN', 'NOUN']}}], [{'ORTH': 'British pound', 'DEP': {'NOT_IN': ['POBJ']}, 'POS': {'IN': ['PROPN', 'NOUN']}}], [{'ORTH': 'pound', 'DEP': {'NOT_IN': ['POBJ']}, 'POS': {'IN': ['PROPN', 'NOUN']}}], [{'ORTH': 'GBP', 'DEP': {'NOT_IN': ['POBJ']}, 'POS': {'IN': ['PROPN', 'NOUN']}}], [{'ORTH': 'Sterling', 'DEP': {'NOT_IN': ['POBJ']}, 'POS': {'IN': ['PROPN', 'NOUN']}}], [{'ORTH': 'sterling', 'DEP': {'NOT_IN': ['POBJ']}, 'POS': {'IN': ['PROPN', 'NOUN']}}], [{'ORTH': 'British pence', 'DEP': {'NOT_IN': ['POBJ']}, 'POS': {'IN': ['PROPN', 'NOUN']}}], [{'ORTH': 'Pound Sterling', 'DEP': {'NOT_IN': ['POBJ']}, 'POS': {'IN': ['PROPN', 'NOUN']}}]]\n[[{'ORTH': 'Hong Kong dollar', 'DEP': {'NOT_IN': ['POBJ']}, 'POS': {'IN': ['PROPN', 'NOUN']}}], [{'ORTH': 'HKD', 'DEP': {'NOT_IN': ['POBJ']}, 'POS': {'IN': ['PROPN', 'NOUN']}}]]\n[[{'ORTH': 'Haitian Gourde', 'DEP': {'NOT_IN': ['POBJ']}, 'POS': {'IN': ['PROPN', 'NOUN']}}]]\n[[{'ORTH': 'Hungarian Forint', 'DEP': {'NOT_IN': ['POBJ']}, 'POS': {'IN': ['PROPN', 'NOUN']}}], [{'ORTH': 'Forint', 'DEP': {'NOT_IN': ['POBJ']}, 'POS': {'IN': ['PROPN', 'NOUN']}}], [{'ORTH': 'Hungarian forint', 'DEP': {'NOT_IN': ['POBJ']}, 'POS': {'IN': ['PROPN', 'NOUN']}}], [{'ORTH': 'forint', 'DEP': {'NOT_IN': ['POBJ']}, 'POS': {'IN': ['PROPN', 'NOUN']}}], [{'ORTH': \"Hungary's forint\", 'DEP': {'NOT_IN': ['POBJ']}, 'POS': {'IN': ['PROPN', 'NOUN']}}], [{'ORTH': 'HUF', 'DEP': {'NOT_IN': ['POBJ']}, 'POS': {'IN': ['PROPN', 'NOUN']}}]]\n[[{'ORTH': 'Rupiah', 'DEP': {'NOT_IN': ['POBJ']}, 'POS': {'IN': ['PROPN', 'NOUN']}}], [{'ORTH': \"Indonesia's rupiah\", 'DEP': {'NOT_IN': ['POBJ']}, 'POS': {'IN': ['PROPN', 'NOUN']}}], [{'ORTH': 'Indonesian rupiah', 'DEP': {'NOT_IN': ['POBJ']}, 'POS': {'IN': ['PROPN', 'NOUN']}}], [{'ORTH': 'IDR', 'DEP': {'NOT_IN': ['POBJ']}, 'POS': {'IN': ['PROPN', 'NOUN']}}], [{'ORTH': 'Indonesian Rupiah', 'DEP': {'NOT_IN': ['POBJ']}, 'POS': {'IN': ['PROPN', 'NOUN']}}], [{'ORTH': 'rupiah', 'DEP': {'NOT_IN': ['POBJ']}, 'POS': {'IN': ['PROPN', 'NOUN']}}], [{'ORTH': \"Indonesian rupiah's\", 'DEP': {'NOT_IN': ['POBJ']}, 'POS': {'IN': ['PROPN', 'NOUN']}}]]\n[[{'ORTH': 'INR', 'DEP': {'NOT_IN': ['POBJ']}, 'POS': {'IN': ['PROPN', 'NOUN']}}], [{'ORTH': 'rupee', 'DEP': {'NOT_IN': ['POBJ']}, 'POS': {'IN': ['PROPN', 'NOUN']}}], [{'ORTH': 'Indian Rupee', 'DEP': {'NOT_IN': ['POBJ']}, 'POS': {'IN': ['PROPN', 'NOUN']}}], [{'ORTH': 'Indian rupee', 'DEP': {'NOT_IN': ['POBJ']}, 'POS': {'IN': ['PROPN', 'NOUN']}}]]\n[[{'ORTH': 'yen', 'DEP': {'NOT_IN': ['POBJ']}, 'POS': {'IN': ['PROPN', 'NOUN']}}], [{'ORTH': 'Japanese yen', 'DEP': {'NOT_IN': ['POBJ']}, 'POS': {'IN': ['PROPN', 'NOUN']}}], [{'ORTH': 'Japanese currency', 'DEP': {'NOT_IN': ['POBJ']}, 'POS': {'IN': ['PROPN', 'NOUN']}}], [{'ORTH': 'JPY', 'DEP': {'NOT_IN': ['POBJ']}, 'POS': {'IN': ['PROPN', 'NOUN']}}], [{'ORTH': 'Yen', 'DEP': {'NOT_IN': ['POBJ']}, 'POS': {'IN': ['PROPN', 'NOUN']}}], [{'ORTH': 'YEN', 'DEP': {'NOT_IN': ['POBJ']}, 'POS': {'IN': ['PROPN', 'NOUN']}}], [{'ORTH': 'Japanese Yen', 'DEP': {'NOT_IN': ['POBJ']}, 'POS': {'IN': ['PROPN', 'NOUN']}}], [{'ORTH': \"Japan's currency\", 'DEP': {'NOT_IN': ['POBJ']}, 'POS': {'IN': ['PROPN', 'NOUN']}}]]\n[[{'ORTH': 'Kenyan shilling', 'DEP': {'NOT_IN': ['POBJ']}, 'POS': {'IN': ['PROPN', 'NOUN']}}]]\n[[{'ORTH': 'Riel', 'DEP': {'NOT_IN': ['POBJ']}, 'POS': {'IN': ['PROPN', 'NOUN']}}], [{'ORTH': 'Khmer riel', 'DEP': {'NOT_IN': ['POBJ']}, 'POS': {'IN': ['PROPN', 'NOUN']}}], [{'ORTH': 'riel', 'DEP': {'NOT_IN': ['POBJ']}, 'POS': {'IN': ['PROPN', 'NOUN']}}]]\n[[{'ORTH': 'KRW', 'DEP': {'NOT_IN': ['POBJ']}, 'POS': {'IN': ['PROPN', 'NOUN']}}], [{'ORTH': 'South Korean won', 'DEP': {'NOT_IN': ['POBJ']}, 'POS': {'IN': ['PROPN', 'NOUN']}}], [{'ORTH': 'Korean won', 'DEP': {'NOT_IN': ['POBJ']}, 'POS': {'IN': ['PROPN', 'NOUN']}}], [{'ORTH': 'won', 'DEP': {'NOT_IN': ['POBJ']}, 'POS': {'IN': ['PROPN', 'NOUN']}}], [{'ORTH': 'Korea Won', 'DEP': {'NOT_IN': ['POBJ']}, 'POS': {'IN': ['PROPN', 'NOUN']}}]]\n[[{'ORTH': 'KD', 'DEP': {'NOT_IN': ['POBJ']}, 'POS': {'IN': ['PROPN', 'NOUN']}}], [{'ORTH': 'won', 'DEP': {'NOT_IN': ['POBJ']}, 'POS': {'IN': ['PROPN', 'NOUN']}}], [{'ORTH': 'Kuwait dinar', 'DEP': {'NOT_IN': ['POBJ']}, 'POS': {'IN': ['PROPN', 'NOUN']}}], [{'ORTH': 'Kuwaiti Dinar', 'DEP': {'NOT_IN': ['POBJ']}, 'POS': {'IN': ['PROPN', 'NOUN']}}]]\n[[{'ORTH': 'Lebanese pound', 'DEP': {'NOT_IN': ['POBJ']}, 'POS': {'IN': ['PROPN', 'NOUN']}}]]\n[[{'ORTH': 'Sri Lankan rupee', 'DEP': {'NOT_IN': ['POBJ']}, 'POS': {'IN': ['PROPN', 'NOUN']}}]]\n[[{'ORTH': 'pesos', 'DEP': {'NOT_IN': ['POBJ']}, 'POS': {'IN': ['PROPN', 'NOUN']}}], [{'ORTH': 'Mexican peso', 'DEP': {'NOT_IN': ['POBJ']}, 'POS': {'IN': ['PROPN', 'NOUN']}}], [{'ORTH': 'Mexican currencies', 'DEP': {'NOT_IN': ['POBJ']}, 'POS': {'IN': ['PROPN', 'NOUN']}}], [{'ORTH': 'MXN', 'DEP': {'NOT_IN': ['POBJ']}, 'POS': {'IN': ['PROPN', 'NOUN']}}], [{'ORTH': 'Mexico’s peso', 'DEP': {'NOT_IN': ['POBJ']}, 'POS': {'IN': ['PROPN', 'NOUN']}}], [{'ORTH': 'Mexican Peso', 'DEP': {'NOT_IN': ['POBJ']}, 'POS': {'IN': ['PROPN', 'NOUN']}}], [{'ORTH': \"Mexico's peso\", 'DEP': {'NOT_IN': ['POBJ']}, 'POS': {'IN': ['PROPN', 'NOUN']}}], [{'ORTH': 'Mexico peso', 'DEP': {'NOT_IN': ['POBJ']}, 'POS': {'IN': ['PROPN', 'NOUN']}}]]\n[[{'ORTH': \"Malaysia 's ringgit\", 'DEP': {'NOT_IN': ['POBJ']}, 'POS': {'IN': ['PROPN', 'NOUN']}}], [{'ORTH': 'MYR', 'DEP': {'NOT_IN': ['POBJ']}, 'POS': {'IN': ['PROPN', 'NOUN']}}], [{'ORTH': 'Malaysian Ringgit', 'DEP': {'NOT_IN': ['POBJ']}, 'POS': {'IN': ['PROPN', 'NOUN']}}], [{'ORTH': \"Malaysia's ringgit\", 'DEP': {'NOT_IN': ['POBJ']}, 'POS': {'IN': ['PROPN', 'NOUN']}}], [{'ORTH': 'ringgit', 'DEP': {'NOT_IN': ['POBJ']}, 'POS': {'IN': ['PROPN', 'NOUN']}}], [{'ORTH': 'Malaysian ringgit', 'DEP': {'NOT_IN': ['POBJ']}, 'POS': {'IN': ['PROPN', 'NOUN']}}]]\n[[{'ORTH': 'naira', 'DEP': {'NOT_IN': ['POBJ']}, 'POS': {'IN': ['PROPN', 'NOUN']}}]]\n[[{'ORTH': 'crown', 'DEP': {'NOT_IN': ['POBJ']}, 'POS': {'IN': ['PROPN', 'NOUN']}}], [{'ORTH': 'NOK', 'DEP': {'NOT_IN': ['POBJ']}, 'POS': {'IN': ['PROPN', 'NOUN']}}]]\n[[{'ORTH': \"New Zealand dollar's\", 'DEP': {'NOT_IN': ['POBJ']}, 'POS': {'IN': ['PROPN', 'NOUN']}}], [{'ORTH': 'Kiwi', 'DEP': {'NOT_IN': ['POBJ']}, 'POS': {'IN': ['PROPN', 'NOUN']}}], [{'ORTH': 'New Zealand dollar', 'DEP': {'NOT_IN': ['POBJ']}, 'POS': {'IN': ['PROPN', 'NOUN']}}], [{'ORTH': 'New Zealand Dollar', 'DEP': {'NOT_IN': ['POBJ']}, 'POS': {'IN': ['PROPN', 'NOUN']}}], [{'ORTH': 'New Zealand', 'DEP': {'NOT_IN': ['POBJ']}, 'POS': {'IN': ['PROPN', 'NOUN']}}], [{'ORTH': 'NZD', 'DEP': {'NOT_IN': ['POBJ']}, 'POS': {'IN': ['PROPN', 'NOUN']}}], [{'ORTH': 'NZ dollar', 'DEP': {'NOT_IN': ['POBJ']}, 'POS': {'IN': ['PROPN', 'NOUN']}}], [{'ORTH': 'Kiwi dollar', 'DEP': {'NOT_IN': ['POBJ']}, 'POS': {'IN': ['PROPN', 'NOUN']}}], [{'ORTH': 'NZ Dollar', 'DEP': {'NOT_IN': ['POBJ']}, 'POS': {'IN': ['PROPN', 'NOUN']}}], [{'ORTH': 'kiwi', 'DEP': {'NOT_IN': ['POBJ']}, 'POS': {'IN': ['PROPN', 'NOUN']}}], [{'ORTH': 'kiwi dollar', 'DEP': {'NOT_IN': ['POBJ']}, 'POS': {'IN': ['PROPN', 'NOUN']}}]]\n[[{'ORTH': 'Omani rial', 'DEP': {'NOT_IN': ['POBJ']}, 'POS': {'IN': ['PROPN', 'NOUN']}}]]\n[[{'ORTH': 'Philippines peso', 'DEP': {'NOT_IN': ['POBJ']}, 'POS': {'IN': ['PROPN', 'NOUN']}}], [{'ORTH': 'peso', 'DEP': {'NOT_IN': ['POBJ']}, 'POS': {'IN': ['PROPN', 'NOUN']}}], [{'ORTH': 'Peso', 'DEP': {'NOT_IN': ['POBJ']}, 'POS': {'IN': ['PROPN', 'NOUN']}}], [{'ORTH': 'Philippine peso', 'DEP': {'NOT_IN': ['POBJ']}, 'POS': {'IN': ['PROPN', 'NOUN']}}], [{'ORTH': 'PHP', 'DEP': {'NOT_IN': ['POBJ']}, 'POS': {'IN': ['PROPN', 'NOUN']}}], [{'ORTH': 'Philippine Pesos', 'DEP': {'NOT_IN': ['POBJ']}, 'POS': {'IN': ['PROPN', 'NOUN']}}]]\n[[{'ORTH': 'Pakistani Paisa', 'DEP': {'NOT_IN': ['POBJ']}, 'POS': {'IN': ['PROPN', 'NOUN']}}], [{'ORTH': 'Pakistani rupee', 'DEP': {'NOT_IN': ['POBJ']}, 'POS': {'IN': ['PROPN', 'NOUN']}}], [{'ORTH': 'Pakistani currency', 'DEP': {'NOT_IN': ['POBJ']}, 'POS': {'IN': ['PROPN', 'NOUN']}}], [{'ORTH': 'PKR', 'DEP': {'NOT_IN': ['POBJ']}, 'POS': {'IN': ['PROPN', 'NOUN']}}], [{'ORTH': 'Pakistan rupee', 'DEP': {'NOT_IN': ['POBJ']}, 'POS': {'IN': ['PROPN', 'NOUN']}}], [{'ORTH': 'Pakistani Rupee', 'DEP': {'NOT_IN': ['POBJ']}, 'POS': {'IN': ['PROPN', 'NOUN']}}]]\n[[{'ORTH': 'Polish Zloty', 'DEP': {'NOT_IN': ['POBJ']}, 'POS': {'IN': ['PROPN', 'NOUN']}}], [{'ORTH': 'zloty', 'DEP': {'NOT_IN': ['POBJ']}, 'POS': {'IN': ['PROPN', 'NOUN']}}], [{'ORTH': 'Polish zloty', 'DEP': {'NOT_IN': ['POBJ']}, 'POS': {'IN': ['PROPN', 'NOUN']}}], [{'ORTH': 'Zloty', 'DEP': {'NOT_IN': ['POBJ']}, 'POS': {'IN': ['PROPN', 'NOUN']}}], [{'ORTH': \"Poland's currency\", 'DEP': {'NOT_IN': ['POBJ']}, 'POS': {'IN': ['PROPN', 'NOUN']}}], [{'ORTH': 'PLN', 'DEP': {'NOT_IN': ['POBJ']}, 'POS': {'IN': ['PROPN', 'NOUN']}}]]\n[[{'ORTH': 'Qatari Riyal', 'DEP': {'NOT_IN': ['POBJ']}, 'POS': {'IN': ['PROPN', 'NOUN']}}], [{'ORTH': 'QAR', 'DEP': {'NOT_IN': ['POBJ']}, 'POS': {'IN': ['PROPN', 'NOUN']}}], [{'ORTH': 'Qatari riyal', 'DEP': {'NOT_IN': ['POBJ']}, 'POS': {'IN': ['PROPN', 'NOUN']}}]]\n[[{'ORTH': 'leu', 'DEP': {'NOT_IN': ['POBJ']}, 'POS': {'IN': ['PROPN', 'NOUN']}}], [{'ORTH': 'Romanian leu', 'DEP': {'NOT_IN': ['POBJ']}, 'POS': {'IN': ['PROPN', 'NOUN']}}], [{'ORTH': \"Romania's leu\", 'DEP': {'NOT_IN': ['POBJ']}, 'POS': {'IN': ['PROPN', 'NOUN']}}]]\n[[{'ORTH': 'Serbian dinar', 'DEP': {'NOT_IN': ['POBJ']}, 'POS': {'IN': ['PROPN', 'NOUN']}}], [{'ORTH': \"Serbia's dinar\", 'DEP': {'NOT_IN': ['POBJ']}, 'POS': {'IN': ['PROPN', 'NOUN']}}], [{'ORTH': 'dinar', 'DEP': {'NOT_IN': ['POBJ']}, 'POS': {'IN': ['PROPN', 'NOUN']}}]]\n[[{'ORTH': 'Russian', 'DEP': {'NOT_IN': ['POBJ']}, 'POS': {'IN': ['PROPN', 'NOUN']}}], [{'ORTH': 'rouble', 'DEP': {'NOT_IN': ['POBJ']}, 'POS': {'IN': ['PROPN', 'NOUN']}}], [{'ORTH': 'Russian Ruble', 'DEP': {'NOT_IN': ['POBJ']}, 'POS': {'IN': ['PROPN', 'NOUN']}}], [{'ORTH': 'Russian currency', 'DEP': {'NOT_IN': ['POBJ']}, 'POS': {'IN': ['PROPN', 'NOUN']}}], [{'ORTH': \"Russia 's ruble\", 'DEP': {'NOT_IN': ['POBJ']}, 'POS': {'IN': ['PROPN', 'NOUN']}}], [{'ORTH': 'ruble', 'DEP': {'NOT_IN': ['POBJ']}, 'POS': {'IN': ['PROPN', 'NOUN']}}], [{'ORTH': 'Russian ruble', 'DEP': {'NOT_IN': ['POBJ']}, 'POS': {'IN': ['PROPN', 'NOUN']}}], [{'ORTH': 'RUB', 'DEP': {'NOT_IN': ['POBJ']}, 'POS': {'IN': ['PROPN', 'NOUN']}}], [{'ORTH': \"Russia's ruble\", 'DEP': {'NOT_IN': ['POBJ']}, 'POS': {'IN': ['PROPN', 'NOUN']}}]]\n[[{'ORTH': 'SEK', 'DEP': {'NOT_IN': ['POBJ']}, 'POS': {'IN': ['PROPN', 'NOUN']}}], [{'ORTH': 'krona', 'DEP': {'NOT_IN': ['POBJ']}, 'POS': {'IN': ['PROPN', 'NOUN']}}], [{'ORTH': 'Swedish krona', 'DEP': {'NOT_IN': ['POBJ']}, 'POS': {'IN': ['PROPN', 'NOUN']}}], [{'ORTH': 'Swedish crown', 'DEP': {'NOT_IN': ['POBJ']}, 'POS': {'IN': ['PROPN', 'NOUN']}}], [{'ORTH': 'SWEDISH KRONA', 'DEP': {'NOT_IN': ['POBJ']}, 'POS': {'IN': ['PROPN', 'NOUN']}}], [{'ORTH': 'Swedish Krona', 'DEP': {'NOT_IN': ['POBJ']}, 'POS': {'IN': ['PROPN', 'NOUN']}}]]\n[[{'ORTH': 'Singdollar', 'DEP': {'NOT_IN': ['POBJ']}, 'POS': {'IN': ['PROPN', 'NOUN']}}], [{'ORTH': 'Sing dollar', 'DEP': {'NOT_IN': ['POBJ']}, 'POS': {'IN': ['PROPN', 'NOUN']}}], [{'ORTH': 'SGD', 'DEP': {'NOT_IN': ['POBJ']}, 'POS': {'IN': ['PROPN', 'NOUN']}}], [{'ORTH': 'Singapore dollar', 'DEP': {'NOT_IN': ['POBJ']}, 'POS': {'IN': ['PROPN', 'NOUN']}}]]\n[[{'ORTH': 'Somali currency', 'DEP': {'NOT_IN': ['POBJ']}, 'POS': {'IN': ['PROPN', 'NOUN']}}], [{'ORTH': 'Somali shilling', 'DEP': {'NOT_IN': ['POBJ']}, 'POS': {'IN': ['PROPN', 'NOUN']}}]]\n[[{'ORTH': 'baht', 'DEP': {'NOT_IN': ['POBJ']}, 'POS': {'IN': ['PROPN', 'NOUN']}}], [{'ORTH': 'THB', 'DEP': {'NOT_IN': ['POBJ']}, 'POS': {'IN': ['PROPN', 'NOUN']}}], [{'ORTH': 'Thai baht', 'DEP': {'NOT_IN': ['POBJ']}, 'POS': {'IN': ['PROPN', 'NOUN']}}]]\n[[{'ORTH': 'TOP', 'DEP': {'NOT_IN': ['POBJ']}, 'POS': {'IN': ['PROPN', 'NOUN']}}]]\n[[{'ORTH': 'TRY', 'DEP': {'NOT_IN': ['POBJ']}, 'POS': {'IN': ['PROPN', 'NOUN']}}], [{'ORTH': 'lira', 'DEP': {'NOT_IN': ['POBJ']}, 'POS': {'IN': ['PROPN', 'NOUN']}}], [{'ORTH': 'Turkish lira', 'DEP': {'NOT_IN': ['POBJ']}, 'POS': {'IN': ['PROPN', 'NOUN']}}], [{'ORTH': \"Turkish lira's\", 'DEP': {'NOT_IN': ['POBJ']}, 'POS': {'IN': ['PROPN', 'NOUN']}}]]\n[[{'ORTH': 'Taiwan dollar', 'DEP': {'NOT_IN': ['POBJ']}, 'POS': {'IN': ['PROPN', 'NOUN']}}], [{'ORTH': 'TWD', 'DEP': {'NOT_IN': ['POBJ']}, 'POS': {'IN': ['PROPN', 'NOUN']}}], [{'ORTH': 'Taiwan', 'DEP': {'NOT_IN': ['POBJ']}, 'POS': {'IN': ['PROPN', 'NOUN']}}], [{'ORTH': 'Taiwan dlr', 'DEP': {'NOT_IN': ['POBJ']}, 'POS': {'IN': ['PROPN', 'NOUN']}}]]\n[[{'ORTH': 'Ugandan shilling', 'DEP': {'NOT_IN': ['POBJ']}, 'POS': {'IN': ['PROPN', 'NOUN']}}]]\n[[{'ORTH': 'U.S. counterpart', 'DEP': {'NOT_IN': ['POBJ']}, 'POS': {'IN': ['PROPN', 'NOUN']}}], [{'ORTH': 'U.S. dlr', 'DEP': {'NOT_IN': ['POBJ']}, 'POS': {'IN': ['PROPN', 'NOUN']}}], [{'ORTH': 'US Dollar', 'DEP': {'NOT_IN': ['POBJ']}, 'POS': {'IN': ['PROPN', 'NOUN']}}], [{'ORTH': 'dollars', 'DEP': {'NOT_IN': ['POBJ']}, 'POS': {'IN': ['PROPN', 'NOUN']}}], [{'ORTH': 'U.S. currency', 'DEP': {'NOT_IN': ['POBJ']}, 'POS': {'IN': ['PROPN', 'NOUN']}}], [{'ORTH': 'cent', 'DEP': {'NOT_IN': ['POBJ']}, 'POS': {'IN': ['PROPN', 'NOUN']}}], [{'ORTH': 'U.S. dollar', 'DEP': {'NOT_IN': ['POBJ']}, 'POS': {'IN': ['PROPN', 'NOUN']}}], [{'ORTH': 'US cents', 'DEP': {'NOT_IN': ['POBJ']}, 'POS': {'IN': ['PROPN', 'NOUN']}}], [{'ORTH': \"dollar's\", 'DEP': {'NOT_IN': ['POBJ']}, 'POS': {'IN': ['PROPN', 'NOUN']}}], [{'ORTH': 'USD', 'DEP': {'NOT_IN': ['POBJ']}, 'POS': {'IN': ['PROPN', 'NOUN']}}], [{'ORTH': 'Usd', 'DEP': {'NOT_IN': ['POBJ']}, 'POS': {'IN': ['PROPN', 'NOUN']}}], [{'ORTH': \"Dollar 's\", 'DEP': {'NOT_IN': ['POBJ']}, 'POS': {'IN': ['PROPN', 'NOUN']}}], [{'ORTH': 'U.S.', 'DEP': {'NOT_IN': ['POBJ']}, 'POS': {'IN': ['PROPN', 'NOUN']}}], [{'ORTH': 'U.S. dollar,', 'DEP': {'NOT_IN': ['POBJ']}, 'POS': {'IN': ['PROPN', 'NOUN']}}], [{'ORTH': 'US dollar', 'DEP': {'NOT_IN': ['POBJ']}, 'POS': {'IN': ['PROPN', 'NOUN']}}], [{'ORTH': 'DOLLAR', 'DEP': {'NOT_IN': ['POBJ']}, 'POS': {'IN': ['PROPN', 'NOUN']}}], [{'ORTH': 'U.S. DOLLAR', 'DEP': {'NOT_IN': ['POBJ']}, 'POS': {'IN': ['PROPN', 'NOUN']}}], [{'ORTH': 'US DOLLAR', 'DEP': {'NOT_IN': ['POBJ']}, 'POS': {'IN': ['PROPN', 'NOUN']}}], [{'ORTH': 'US currency', 'DEP': {'NOT_IN': ['POBJ']}, 'POS': {'IN': ['PROPN', 'NOUN']}}], [{'ORTH': 'greenback', 'DEP': {'NOT_IN': ['POBJ']}, 'POS': {'IN': ['PROPN', 'NOUN']}}], [{'ORTH': 'Dollar', 'DEP': {'NOT_IN': ['POBJ']}, 'POS': {'IN': ['PROPN', 'NOUN']}}], [{'ORTH': 'US', 'DEP': {'NOT_IN': ['POBJ']}, 'POS': {'IN': ['PROPN', 'NOUN']}}], [{'ORTH': 'dollar', 'DEP': {'NOT_IN': ['POBJ']}, 'POS': {'IN': ['PROPN', 'NOUN']}}], [{'ORTH': 'US counterpart', 'DEP': {'NOT_IN': ['POBJ']}, 'POS': {'IN': ['PROPN', 'NOUN']}}], [{'ORTH': 'Cable', 'DEP': {'NOT_IN': ['POBJ']}, 'POS': {'IN': ['PROPN', 'NOUN']}}], [{'ORTH': 'buck', 'DEP': {'NOT_IN': ['POBJ']}, 'POS': {'IN': ['PROPN', 'NOUN']}}], [{'ORTH': 'cents', 'DEP': {'NOT_IN': ['POBJ']}, 'POS': {'IN': ['PROPN', 'NOUN']}}], [{'ORTH': 'U.S. dollars', 'DEP': {'NOT_IN': ['POBJ']}, 'POS': {'IN': ['PROPN', 'NOUN']}}], [{'ORTH': 'U.S dollar', 'DEP': {'NOT_IN': ['POBJ']}, 'POS': {'IN': ['PROPN', 'NOUN']}}]]\n[[{'ORTH': 'VND', 'DEP': {'NOT_IN': ['POBJ']}, 'POS': {'IN': ['PROPN', 'NOUN']}}], [{'ORTH': 'dong', 'DEP': {'NOT_IN': ['POBJ']}, 'POS': {'IN': ['PROPN', 'NOUN']}}]]\n[[{'ORTH': 'YER', 'DEP': {'NOT_IN': ['POBJ']}, 'POS': {'IN': ['PROPN', 'NOUN']}}]]\n[[{'ORTH': 'rand', 'DEP': {'NOT_IN': ['POBJ']}, 'POS': {'IN': ['PROPN', 'NOUN']}}], [{'ORTH': 'South African rand', 'DEP': {'NOT_IN': ['POBJ']}, 'POS': {'IN': ['PROPN', 'NOUN']}}], [{'ORTH': \"South Africa's rand\", 'DEP': {'NOT_IN': ['POBJ']}, 'POS': {'IN': ['PROPN', 'NOUN']}}], [{'ORTH': 'ZAR', 'DEP': {'NOT_IN': ['POBJ']}, 'POS': {'IN': ['PROPN', 'NOUN']}}]]\n[[{'ORTH': 'Zimbabwe dollar', 'DEP': {'NOT_IN': ['POBJ']}, 'POS': {'IN': ['PROPN', 'NOUN']}}]]\n"
    }
   ],
   "source": [
    "from spacy.matcher import Matcher\n",
    "\n",
    "matcher = Matcher(nlp.vocab)\n",
    "\n",
    "# Create matcher for each currency\n",
    "for index, row in df_all_phrases.iterrows():\n",
    "    patterns = []\n",
    "\n",
    "    # phrase_patterns = [ [ {'ORTH': phrase } , {'POS':{\"IN\": [\"PROPN\", \"NOUN\"]}} , {'DEP': {\"NOT_IN\": [\"pobj\"]}} ] for phrase in row['phrase'] ]\n",
    "    phrase_patterns = [ [ {'ORTH': phrase , 'DEP': {\"NOT_IN\": [\"POBJ\"]},  'POS':{\"IN\": [\"PROPN\", \"NOUN\"]} } ]  for phrase in row['phrase'] ]\n",
    "    # phrase_patterns.append({'POS':{\"IN\": [\"PROPN\", \"NOUN\"]}})\n",
    "    # phrase_patterns['POS'] = {\"IN\": [\"PROPN\", \"NOUN\"]}\n",
    "    # phrase_patterns['DEP'] = {\"NOT_IN\": [\"POBJ\"]}\n",
    "    print(phrase_patterns)\n",
    "    matcher.add(row['ric'],None,*phrase_patterns)"
   ]
  },
  {
   "cell_type": "code",
   "execution_count": 14,
   "metadata": {
    "tags": []
   },
   "outputs": [
    {
     "output_type": "stream",
     "name": "stdout",
     "text": "Matches for USD in text : US\nMatches for EUR in text : Euro\nMatches for EUR in text : Euro\n"
    }
   ],
   "source": [
    "sample_text = 'The unilateral repudiation of the multilateral agreement with Iran and the threat by the US to impose sanctions of countries that continue to do business with Iran carries a much broader threat to the Euro and Euro pairs.'\n",
    "\n",
    "# matcher = Matcher(nlp.vocab)\n",
    "\n",
    "# test_pat = [{'ORTH': 'EURO'}], [{'ORTH': 'euro'}], [{'ORTH': 'Euro'},{'POS': {'IN': ['PROPN', 'NOUN']}}], [{'ORTH': 'Eur'}], [{'ORTH': 'EUR'}]\n",
    "# test_pat2 = [[{'ORTH': 'EURO'}, {'POS': {'IN': ['PROPN', 'NOUN']}}], [{'ORTH': 'euro'}, {'POS': {'IN': ['PROPN', 'NOUN']}}], [{'ORTH': 'Euro'}, {'POS': {'IN': ['PROPN', 'NOUN']}}], [{'ORTH': 'Eur'}, {'POS': {'IN': ['PROPN', 'NOUN']}}], [{'ORTH': 'EUR'}, {'POS': {'IN': ['PROPN', 'NOUN']}}]]\n",
    "# matcher.add('euro',None,*patterns)\n",
    "doc = nlp(sample_text)\n",
    "\n",
    "for match_id, start, end in matcher(doc):\n",
    "    print(f\"Matches for {nlp.vocab.strings[match_id]} in text : {doc[start:end]}\")\n"
   ]
  },
  {
   "cell_type": "code",
   "execution_count": 15,
   "metadata": {},
   "outputs": [],
   "source": [
    "def parse_train_data(text):\n",
    "    doc = nlp(text)\n",
    "    detections = [(doc[start:end].start_char, doc[start:end].end_char, nlp.vocab.strings[idx] ) for idx, start, end in matcher(doc)]\n",
    "    return (doc.text, {'entities': detections})"
   ]
  },
  {
   "cell_type": "code",
   "execution_count": 16,
   "metadata": {},
   "outputs": [
    {
     "output_type": "execute_result",
     "data": {
      "text/plain": "('The unilateral repudiation of the multilateral agreement with Iran and the threat by the US to impose sanctions of countries that continue to do business with Iran carries a much broader threat to the Euro and Euro pairs.',\n {'entities': [(89, 91, 'USD'), (201, 205, 'EUR'), (210, 214, 'EUR')]})"
     },
     "metadata": {},
     "execution_count": 16
    }
   ],
   "source": [
    "parse_train_data(sample_text)"
   ]
  },
  {
   "cell_type": "code",
   "execution_count": 18,
   "metadata": {},
   "outputs": [
    {
     "output_type": "execute_result",
     "data": {
      "text/plain": "iffs rather overshadowed what was a weaker than expected US payroll. USD/INR crept upwards thereafter, and saw minor attempts to break 65.000 handle as European session started, but settled between 64.9500-65.0000 at last look. 1M NDFs dipped to a 2-week low of 65.0100 before bouncing back to 65.1600 at last sight. Market Psychology USD/CNH - USD/CNH may move up again on renewed trade fears. Based on current situation, we still see some potential tests of the next support at 6.2740 on USD/CNH. For USD/CNY, further tests of the support at 6.2800 may come in, unless trade tensions escalate again. USD/SGD - We see key support at 1.3073 likely to hold as US-China trade tensions ratchet up. USD/IDR - Trade tariff rhetoric likely to weigh on sentiment which should keep the minor support at 13753 intact, and a break of 13800 remains key for bulls to take charge. USD/INR - The pair may test support at 64.720, but we do not see risk to strong support at 64.6200. 09 Apr 2018 08:21 GMT - Asia Daily Outlook / Strategy - 10 April Asia Daily Outlook / Strategy - 10 Apr Jeff Ng, PuoHua Lim, Jiaxin Lu Regional Backdrop: Asian currencies were mixed on Monday. KRW , MYR , IDR  and SGD  all registered some gains, while TWD , THB , CNY , CNH , INR  lost against the USD. Philippines markets were closed today for a local holiday. Markets remained watchful for US-China trade relations and any possibility for further moves or negotiations. This comes as Asian stocks rebounded. USD/CNH started the week with an offered tone after a range-bound Friday a week earlier. Pair moved lower towards 6.2900 handle before spiking up suddenly to 6.3181 last look. Focus on President Xi's speech at Boao Forum for Asia on Tuesday, on the latest on US-China trade rhetoric. USD/CNH may move up again on renewed trade fears. Based on current situation, we still see some potential tests of the next support at 6.2740 on USD/CNH. PBoC fixed mid-point at 6.3114 vs. previous close of 6.3027. USD/CNY also moved slightly down at open but now moved up to 6.3185 at last check. 1Y NDFs also came off before rebounding up to 6.4025 last check. For USD/CNY, further tests of the support at 6.2800 may come in, unless trade tensions escalate again. USD/SGD saw a steady slide to a low of 1.3127 during Asia session on Monday, while a mild bid tone to 1.3150 was seen as European session started. The pair shrugged off some upside pressure, and now eyes on the support at 1.3116. We see key support at 1.3073 likely to hold as US-China trade tensions ratchet up. Domestically, markets all focus on The Monetary Authority of Singapore monetary policy decision on Friday, together with a release of Q1 GDP. We expect MAS to move to a modest and gradual appreciation of the SGD nominal effective exchange rate  in April. This is likely to be helped by a buoyant economic outlook, and inflation will likely remain on a modest uptrend ahead. USD/IDR onshore spot gapped lower to open at 13760 on Monday from last Friday's close of 13770, as U.S dollar fell on heightening U.S-China trade tensions. Currency pair consolidated between 13755 and 13771. Trade tariff rhetoric likely to weigh on sentiment which should keep the minor support at 13753 intact, and a break of 13800 remains key for bulls to take charge. USD/INR onshore spot opened a shade lower at 64.8500 on Monday, as dragged down by a weaker USD as Trump's overnight escalation of China tariffs rather overshadowed what was a weaker than expected US payroll. USD/INR crept upwards thereafter, and saw minor attempts to break 65.000 handle as European session started, but settled between 64.9500-65.0000 at last look. The pair may test support at 64.720, but we do not see risk to strong support at 64.6200. 1M NDFs dipped to a 2-week low of 65.0100 before bouncing back to 65.1600 at last sight. 09 Apr 2018 04:26 GMT - Chart USD/SGD Update: Intraday trade increases pressure on the downside 09 Apr 2018 02:18 GMT - Singapore Flows: USD/SGD came off from the over 1-month high After hovering at around 1.3160 during early trading hours on Monday, USD/SGD slipped to 1.3138 at last look. According to our estimates, SGD NEER is currently at +1.19% compared to the midpoint. The pair shrugged off some upside pressure, and now eyes on the support at 1.3116. We see key support at 1.3073 likely to hold as US-China trade tensions ratchet up. Attention will be on China's response as President Xi Jinping speaks at Boao Forum. Domestically, markets all focus on The Monetary Authority of Singapore monetary policy decision due on Friday, together with a release of Q1 GDP. We expect MAS to move to a modest and gradual appreciation of the SGD nominal effective exchange rate  in April. This is likely to be helped by a buoyant economic outlook, and inflation will likely remain on a modest uptrend ahead. STI opened lower, and was seen shedding 0.62% at last look. 08 Apr 2018 23:56 GMT - Chart USD/SGD Update: Failed to sustain break of 1.3196 resistance last Friday 08 Apr 2018 23:50 GMT - Asia Open - Overnight Highlights Asia Overnight Highlights - 09 April 2018 Lim Puo Hua, Ken Loong Hoe ASIA OUTLOOK Trump's overnight escalation of China tariffs rather overshadowed what was a weaker than expected US payroll, albeit with average hourly earnings picking up as expected. Equities slipped, bonds rallied and the USD was mostly weaker, albeit in moderate ranges. After Fed's Powell provided no real surprises equities and the USD slipped further. Majors FX Highlights Over the weekend, trade talks continue to dominate the news and will continue to be driving market sentiments. Equity futures are pointing a start to the week in the red. The dollar index started the week on a positive note, higher at the open and inching higher to 90.20. EUR/USD trades a shade lower from Friday's high, dipping to 1.2270. Cable steadies at 1.4089, still close to NY close. USD/JPY had a brief look above 107 before dipping to 106.80 which found some bids. AUD/USD trading close to the slightly higher open following a momentary dip to 0.7668. NZD/USD oscillates around 0.7270. USD/CHF rises to test 0.9595 after a lower open. USD/CAD trades in an early range capped by 1.2763 and 1.2783. Majors Data Highlights Mar's non-farm payroll increase of 103k is below consensus but appears a  correction from the very strong 326k pace in Feb, though trend looks a little slower than before with Jan revised lower. The labor market still looks strong but unemployment remains at 4.1% for a 6th straight month. Average hourly earnings are as expected at a firmer 0.3%. Fed's Powell said economy will require further gradual rate increases, still doesn't know how tariffs will affect economic outlook. No key data releases due on Monday. Emerging Asia FX Highlights USD/Asians saw mixed trends last Friday and early this morning.USD/CNY 1Y NDFs traded with a mild upside bias on Friday, and rose to 2-week high of 6.4117. Onshore markets remained closed on Thursday and Friday. USD/CNH traded with a mild bid tone on Friday, and rose to 2-week high of 6.3218 before coming off slightly to around 6.3122. We see some tests of the 6.3400 resistance. USD/SGD traded with a mild downside bias in NY hours on last Friday, and fell from a 5-week high of 1.3197 to 1.3154. Pair was seen steady at around 1.3160 early this morning and eyes will be on the hurdle at 1.3178. USD/IDR 1M NDFs consolidated around 13810 on last Friday, broadly shrugging off trade tariff rhetoric. USD/IDR onshore spot traded sideways on Friday at around 13780; with currency pair hitting a 2-week high of 13787 before coming off slightly. USD/INR 1M NDFs rose slightly to 65.2500 on Friday but saw the pair slipped to 65.1200 levels later. USD/INR gapped lower to open at 64.9250 on Friday following a drop below the 65 handle on Thursday afternoon as RBI raise growth forecasts and lowered inflation forecasts. Emerging Asia Data Highlights A quiet end is seen in the Asian markets in data terms last Friday. Taiwan's March exports, imports and trade balance will be due today. OVERNIGHT NEWS HIGHLIGHTS * US Mar non-farm payrolls +103k vs 185k exp, average hourly earnings +0.3% as exp, unemployment unchanged at 4.1% vs 4.0% exp. * Canada Mar employment +32.2k vs 20k exp, unemployment unchanged at 5.8% as exp. * Fed's Powell said economy will require further gradual rate increases, still doesn't know how tariffs will affect economic outlook. * Fed's Williams backs 3 or 4 rate hikes this year. * US Feb consumer credit +$10.6bn vs $15.5bn exp. * VIX index: 21.49  * Gold Spot: $1,332.73/oz  * ICE Brent front contract: $67.16  * Nymex WTI front contract: $62.09  * Reuters/Jefferies Commodities Index: 192.25  * 10y UST: 2.774%   * DJI: 23,932.76 ; S&P;: 2,604.47 ; Nasdaq: 6,915.11  ASIA NEWS China: Xi Takes Center Stage to Defend China's Trade from Trump Barrage. - BBG Indonesia: Trade Row Flare-Ups Keeping Investors Wary of Risk: EM Review. - BBG CURRENCIES Headline NFP gain was a long way under consensus and wage growth remains modest, but the FX reaction somewhat mixed before the US eventually eased back a touch, extending after Powell provided no surprises, though 1.2300 remained out of reach. USD/JPY bumped up against 107.50 without success, drifting back below 107.00 as Wall Street suffered another bad day in the aftermath of Trump's latest tariff proposals versus China. After a good deal of hesitation Cable eventually pushed higher from its dalliance with 1.4000, briefly hitting 1.4100 in thin trade. GBP/JPY also managed some trades on the 151 handle as EUR/GBP drifted to test .8700. The CAD got a lift from local employment data but bounced from 1.2730 as a rapid run to lower supports faded. AUD couldn't hold over .7700, AUD/NZD stalled after short-lived look over 1.0600. All very familiar on the Scandies and EUR/CHF. Swiss March reserves rose CHF5.55bn in March to suggest the SNB is still interested. BONDS The combination of the Trump tariff remarks and the below market payrolls headline lacked initial punch but eventually allowed the pullback in US yields to gather steam. USTs didn't really get a great pop to start with but specs were forced to rein it as 10s dipped through 2.8% to trigger some covering and further follow through action, as equity losses built. 2s -3.2bps @ 2.27%, 5s -4.7bps @ 2.59%, 10s -5.5bps @ 2.78%, 30s -5.2bps @ 3.02%. Agency Spreads: Freddie/Fannie 5s +0.2/+0.6 bps, 10s -0.2/0.0 bps. Swap Spreads: 2s +0.24bps, 5s 0.00bps, 10s -0.35bps. EQUITIES Futures had moved off the Asian lows seen in response to Trump's escalation of China tariffs, but the market still opened weaker. Kudlow tried to provide some reassurance but a Trump tweet against the WTO saw the sellers return. Losses extended sharply after Fed's Powell failed to lift the market. Conflicting views from the US administration and China on prospect for a deal may have been getting as much attention as Powell. ASIA CURRENCIES USD/CNY: 1Y NDFs traded with a mild upside bias on Friday, and rose to 2-week high of 6.4117. Onshore markets remained closed on Thursday and Friday. Focus on PBOB fixing in the midst of trade tensions. For USD/CNY, a move beyond the 6.3350 resistance could signal further upside movements. USD/CNH: Pair traded with a mild bid tone on Friday, and rose to 2-week high of 6.3218 before coming off slightly to around 6.3122. USD/CNH was seen rising slightly to 6.3153 this morning at last look. We see some tests of the 6.3400 resistance. USD/SGD: Pair traded with a mild downside bias in NY hours on last Friday, and fell from a 5-week high of 1.3197 to 1.3154. Pair was seen steady at around 1.3160 early this morning and eyes will be on the hurdle at 1.3178. Key focus this week will be on the Monetary Authority of Singapore  policy decision on 13th April, together with a release of Q1 GDP data. USD/IDR: 1M NDFs consolidated around 13810 on last Friday, broadly shrugging off trade tariff rhetoric. USD/IDR onshore spot gapped higher to open at 13780 on Friday vs previous close of 13767. Pair traded sideways around 13780 subsequently; with currency pair hitting a 2-week high of 13787 before coming off slightly. Trade tariff rhetoric likely to weigh on sentiment which should keep the minor support at 13735 intact, and a break of 13800 remains key for bulls to take charge. USD/INR: 1M NDFs rose slightly to 65.2500 on Friday but saw the pair slipped to 65.1200 levels later. Onshore spot gapped lower to open at 64.9250 on Friday following a drop below the 65 handle on Thursday afternoon as RBI raise growth forecasts and lowered inflation forecasts. Subsequently, the pair was seen in a narrow range around 64.9800. We see no risk to strong support at 64.6200 even as trade tensions persist. DATA RELEASES DUE TODAY * 07:30 GMT - UK: Halifax House Price Index   * 07:30 GMT - UK: Halifax House Price Index   * 08:00 GMT - TW: Exports   * 08:00 GMT - TW: Imports   * 08:00 GMT - TW: Trade Balance   * 08:30 GMT - EU: Sentix Investor Confidence   * 12:15 GMT - CA: Housing Starts   EVENTS & AUCTIONS * PH: Market Holiday - Day Of Valor * 15:30 GMT - US: Bills Auction Access to the 4CAST Interactive Calendar <> For more information regarding the 4CAST FCT service, call  4CAST on  NYC : +212-897 6777, LDN : +44-20-7881 8800, SGA +65-6236 1600. Alternatively, visit < All Markets - All Headlines     ])] All Markets - Calendar         -FCT]-FCT)]     Emg Eur. Flows  -FLOWS-FCT]-FLOWS-FCT)] Emg Eur. Data -ECI-FCT]-ECI-FCT)] Emg Eur. Chart  -CHART-FCT]-CHART-FCT)] Emg Latam All (\",\n {'entities': [(1183, 1186, 'USD'),\n   (1467, 1470, 'EUR'),\n   (1471, 1474, 'USD'),\n   (1533, 1538, 'USD'),\n   (1656, 1659, 'USD'),\n   (1660, 1663, 'JPY'),\n   (1723, 1726, 'AUD'),\n   (1727, 1730, 'USD'),\n   (1778, 1781, 'NZD'),\n   (1782, 1785, 'USD'),\n   (1833, 1836, 'USD'),\n   (1837, 1840, 'CAD'),\n   (1933, 1936, 'USD'),\n   (1937, 1940, 'CHF'),\n   (2010, 2012, 'USD'),\n   (2026, 2028, 'USD'),\n   (2404, 2406, 'USD'),\n   (2771, 2774, 'USD'),\n   (2833, 2836, 'USD'),\n   (2837, 2840, 'CNY'),\n   (2947, 2951, 'USD'),\n   (2952, 2955, 'USD'),\n   (2956, 2959, 'CNY'),\n   (3102, 3105, 'USD'),\n   (3106, 3109, 'CNH'),\n   (3295, 3298, 'USD'),\n   (3299, 3302, 'SGD'),\n   (3418, 3421, 'USD'),\n   (3422, 3425, 'IDR'),\n   (3537, 3540, 'USD'),\n   (3541, 3544, 'IDR'),\n   (3583, 3586, 'USD'),\n   (3587, 3590, 'INR'),\n   (3714, 3717, 'USD'),\n   (3718, 3721, 'INR'),\n   (3853, 3859, 'TWD'),\n   (4156, 4160, 'CNY'),\n   (4271, 4277, 'TWD'),\n   (4481, 4483, 'USD'),\n   (4497, 4499, 'USD'),\n   (5055, 5058, 'EUR'),\n   (5059, 5062, 'USD'),\n   (5455, 5459, 'EUR'),\n   (5476, 5479, 'USD'),\n   (5480, 5483, 'JPY'),\n   (5707, 5710, 'EUR'),\n   (5711, 5714, 'JPY'),\n   (5803, 5808, 'USD'),\n   (5955, 5958, 'USD'),\n   (5978, 5981, 'EUR'),\n   (5982, 5985, 'GBP'),\n   (6022, 6025, 'AUD'),\n   (6123, 6126, 'CNY'),\n   (6149, 6152, 'AUD'),\n   (6171, 6174, 'AUD'),\n   (6175, 6178, 'NZD'),\n   (6187, 6190, 'AUD'),\n   (6191, 6194, 'USD'),\n   (6218, 6221, 'AUD'),\n   (6222, 6225, 'CAD'),\n   (6241, 6244, 'USD'),\n   (6245, 6248, 'CAD'),\n   (6334, 6337, 'EUR'),\n   (6338, 6341, 'SEK'),\n   (6346, 6349, 'EUR'),\n   (6350, 6353, 'NOK'),\n   (6408, 6411, 'EUR'),\n   (6412, 6415, 'CHF'),\n   (7359, 7362, 'USD'),\n   (7363, 7366, 'CNY'),\n   (7474, 7478, 'USD'),\n   (7731, 7734, 'USD'),\n   (7735, 7738, 'CNY'),\n   (7830, 7833, 'USD'),\n   (7834, 7837, 'CNH'),\n   (7839, 7842, 'USD'),\n   (7843, 7846, 'CNH'),\n   (8110, 8113, 'USD'),\n   (8114, 8117, 'SGD'),\n   (8313, 8316, 'USD'),\n   (8317, 8320, 'IDR'),\n   (8433, 8436, 'USD'),\n   (8437, 8440, 'IDR'),\n   (8502, 8508, 'USD'),\n   (8770, 8773, 'USD'),\n   (8774, 8777, 'INR'),\n   (8979, 8982, 'USD'),\n   (9004, 9006, 'USD'),\n   (9394, 9396, 'USD'),\n   (9449, 9451, 'USD'),\n   (9489, 9491, 'USD'),\n   (9567, 9569, 'USD'),\n   (10160, 10162, 'USD'),\n   (10248, 10250, 'USD'),\n   (10284, 10286, 'USD'),\n   (10446, 10449, 'KRW'),\n   (10452, 10455, 'MYR'),\n   (10458, 10461, 'IDR'),\n   (10467, 10470, 'SGD'),\n   (10505, 10508, 'TWD'),\n   (10511, 10514, 'THB'),\n   (10517, 10520, 'CNY'),\n   (10523, 10526, 'CNH'),\n   (10529, 10532, 'INR'),\n   (10551, 10554, 'USD'),\n   (10645, 10647, 'USD'),\n   (10763, 10766, 'USD'),\n   (10767, 10770, 'CNH'),\n   (11022, 11024, 'USD'),\n   (11109, 11112, 'USD'),\n   (11113, 11116, 'CNY'),\n   (11257, 11260, 'USD'),\n   (11261, 11264, 'SGD'),\n   (11695, 11698, 'SGD'),\n   (11861, 11864, 'USD'),\n   (11865, 11868, 'IDR'),\n   (11964, 11970, 'USD'),\n   (12069, 12072, 'USD'),\n   (12073, 12076, 'INR'),\n   (12161, 12164, 'USD'),\n   (12266, 12268, 'USD'),\n   (12278, 12281, 'USD'),\n   (12282, 12285, 'INR'),\n   (12544, 12547, 'USD'),\n   (12548, 12551, 'CNH'),\n   (12554, 12557, 'USD'),\n   (12558, 12561, 'CNH'),\n   (12699, 12702, 'USD'),\n   (12703, 12706, 'CNH'),\n   (12712, 12715, 'USD'),\n   (12716, 12719, 'CNY'),\n   (12811, 12814, 'USD'),\n   (12815, 12818, 'SGD'),\n   (12868, 12870, 'USD'),\n   (12904, 12907, 'USD'),\n   (12908, 12911, 'IDR'),\n   (13077, 13080, 'USD'),\n   (13081, 13084, 'INR'),\n   (13370, 13373, 'KRW'),\n   (13376, 13379, 'MYR'),\n   (13382, 13385, 'IDR'),\n   (13391, 13394, 'SGD'),\n   (13429, 13432, 'TWD'),\n   (13435, 13438, 'THB'),\n   (13441, 13444, 'CNY'),\n   (13447, 13450, 'CNH'),\n   (13453, 13456, 'INR'),\n   (13475, 13478, 'USD'),\n   (13569, 13571, 'USD'),\n   (13687, 13690, 'USD'),\n   (13691, 13694, 'CNH'),\n   (13946, 13948, 'USD'),\n   (13971, 13974, 'USD'),\n   (13975, 13978, 'CNH'),\n   (14116, 14119, 'USD'),\n   (14120, 14123, 'CNH'),\n   (14186, 14189, 'USD'),\n   (14190, 14193, 'CNY'),\n   (14338, 14341, 'USD'),\n   (14342, 14345, 'CNY'),\n   (14437, 14440, 'USD'),\n   (14441, 14444, 'SGD'),\n   (14714, 14716, 'USD'),\n   (14958, 14961, 'SGD'),\n   (15124, 15127, 'USD'),\n   (15128, 15131, 'IDR'),\n   (15227, 15233, 'USD'),\n   (15495, 15498, 'USD'),\n   (15499, 15502, 'INR'),\n   (15587, 15590, 'USD'),\n   (15692, 15694, 'USD'),\n   (15704, 15707, 'USD'),\n   (15708, 15711, 'INR'),\n   (16072, 16075, 'USD'),\n   (16076, 16079, 'SGD'),\n   (16179, 16182, 'USD'),\n   (16183, 16186, 'SGD'),\n   (16293, 16296, 'USD'),\n   (16297, 16300, 'SGD'),\n   (16361, 16364, 'SGD'),\n   (16549, 16551, 'USD'),\n   (16881, 16884, 'SGD'),\n   (17137, 17140, 'USD'),\n   (17141, 17144, 'SGD'),\n   (17447, 17449, 'USD'),\n   (17559, 17562, 'USD'),\n   (17672, 17675, 'USD'),\n   (17889, 17895, 'USD'),\n   (17987, 17990, 'EUR'),\n   (17991, 17994, 'USD'),\n   (18055, 18060, 'USD'),\n   (18106, 18109, 'USD'),\n   (18110, 18113, 'JPY'),\n   (18189, 18192, 'AUD'),\n   (18193, 18196, 'USD'),\n   (18276, 18279, 'NZD'),\n   (18280, 18283, 'USD'),\n   (18310, 18313, 'USD'),\n   (18314, 18317, 'CHF'),\n   (18359, 18362, 'USD'),\n   (18363, 18366, 'CAD'),\n   (18988, 18991, 'USD'),\n   (19051, 19054, 'USD'),\n   (19055, 19058, 'CNY'),\n   (19200, 19203, 'USD'),\n   (19204, 19207, 'CNH'),\n   (19370, 19373, 'USD'),\n   (19374, 19377, 'SGD'),\n   (19587, 19590, 'USD'),\n   (19591, 19594, 'IDR'),\n   (19690, 19693, 'USD'),\n   (19694, 19697, 'IDR'),\n   (19832, 19835, 'USD'),\n   (19836, 19839, 'INR'),\n   (19933, 19936, 'USD'),\n   (19937, 19940, 'INR'),\n   (20203, 20209, 'TWD'),\n   (20300, 20302, 'USD'),\n   (20696, 20698, 'USD'),\n   (21291, 21293, 'USD'),\n   (21408, 21411, 'USD'),\n   (21412, 21415, 'JPY'),\n   (21623, 21628, 'USD'),\n   (21724, 21727, 'GBP'),\n   (21728, 21731, 'JPY'),\n   (21778, 21781, 'EUR'),\n   (21782, 21785, 'GBP'),\n   (21813, 21816, 'CAD'),\n   (21919, 21922, 'AUD'),\n   (21949, 21952, 'AUD'),\n   (21953, 21956, 'NZD'),\n   (22039, 22042, 'EUR'),\n   (22043, 22046, 'CHF'),\n   (22282, 22284, 'USD'),\n   (23039, 23041, 'USD'),\n   (23157, 23160, 'USD'),\n   (23161, 23164, 'CNY'),\n   (23364, 23367, 'USD'),\n   (23368, 23371, 'CNY'),\n   (23448, 23451, 'USD'),\n   (23452, 23455, 'CNH'),\n   (23580, 23583, 'USD'),\n   (23584, 23587, 'CNH'),\n   (23694, 23697, 'USD'),\n   (23698, 23701, 'SGD'),\n   (24056, 24059, 'USD'),\n   (24060, 24063, 'IDR'),\n   (24160, 24163, 'USD'),\n   (24164, 24167, 'IDR'),\n   (24539, 24542, 'USD'),\n   (24543, 24546, 'INR'),\n   (25316, 25318, 'USD'),\n   (25622, 25625, 'EUR'),\n   (25662, 25665, 'EUR'),\n   (25696, 25699, 'EUR')]})"
     },
     "metadata": {},
     "execution_count": 18
    }
   ],
   "source": [
    "sample_text = get_sample_text_from_file()\n",
    "parse_train_data(sample_text)"
   ]
  },
  {
   "cell_type": "code",
   "execution_count": 23,
   "metadata": {},
   "outputs": [
    {
     "output_type": "execute_result",
     "data": {
      "text/plain": "'Cable'"
     },
     "metadata": {},
     "execution_count": 23
    }
   ],
   "source": [
    "sample_text[1533:1538]"
   ]
  },
  {
   "cell_type": "code",
   "execution_count": null,
   "metadata": {},
   "outputs": [],
   "source": []
  }
 ]
}